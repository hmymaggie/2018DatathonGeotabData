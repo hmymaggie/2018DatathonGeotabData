{
 "cells": [
  {
   "cell_type": "code",
   "execution_count": 2,
   "metadata": {
    "scrolled": true
   },
   "outputs": [],
   "source": [
    "%matplotlib inline\n",
    "import pandas as pd   \n",
    "from IPython.display import display, Markdown\n",
    "pd.options.display.max_columns = 100\n",
    "df1=pd.read_csv('ksi.csv')\n",
    "dfnew=df1.groupby('Geohash').size().sort_values(ascending=False).iloc[:100]\n",
    "dfnew.index.name = 'Geohash'\n",
    "#s = pd.Series(0:99)\n",
    "#dfnew.reset_index()\n",
    "dfnew=dfnew.reset_index(['Geohash'])['Geohash']\n",
    "dfnew=pd.DataFrame(dfnew)\n",
    "#display(dfnew)\n",
    "#find area where accident happened more frequently\n",
    "#display(dfnew.iloc[1,1])\n",
    "\n",
    "\n",
    "df2=pd.read_csv('hazardous_driving.csv')\n",
    "dfharsh=df2.sort_values(by=['IncidentsTotal'],ascending=False)['Geohash'].iloc[:100] \n",
    "#number of harsh braking incidents\n",
    "#display(dfharsh)\n",
    "dfharsh=pd.DataFrame(dfharsh)\n",
    "dfharsh=pd.DataFrame(dfharsh.reset_index())\n",
    "dfharsh=dfharsh.drop(columns=['index'])\n",
    "#'dpz2xeu' in dfharsh.values\n",
    "#dfnew['Geohash'].iloc[8] in dfnew.values\n",
    "#dfnew['Geohash']\n",
    "#dfharsh['Geohash']"
   ]
  },
  {
   "cell_type": "code",
   "execution_count": 6,
   "metadata": {},
   "outputs": [],
   "source": [
    "high_risk=[]\n",
    "for i in range(99):\n",
    "    if str(dfnew['Geohash'].iloc[i]) in dfharsh.values:\n",
    "            high_risk.append(str(dfnew['Geohash'].iloc[i]))\n",
    "high_risk #return Geohash of high risk area"
   ]
  },
  {
   "cell_type": "code",
   "execution_count": 5,
   "metadata": {
    "scrolled": false
   },
   "outputs": [],
   "source": [
    "dfrisky=pd.concat([df1.loc[df1['Geohash'] == 'dpz83d2'],  #queen & university\n",
    "df1.loc[df1['Geohash'] == 'dpz8252'] , #bloor & dundas\n",
    "df1.loc[df1['Geohash'] == 'dpz95be'],   #Kennedy Rd & 401 C E Kennedy N Ramp Rd E\n",
    "df1.loc[df1['Geohash'] == 'dpz81py'] , #lake shore blvd W & Bathurst St.\n",
    "df1.loc[df1['Geohash'] == 'dpz866m'] , #lake shore blvd E & Don Roadway\n",
    "df1.loc[df1['Geohash'] == 'dpz837p'] ,#Dundas St W & University Ave\n",
    "df1.loc[df1['Geohash'] == 'dpz2xkv'] , #Lawrencce Ave W & Keele Street\n",
    "df1.loc[df1['Geohash'] == 'dpz89tr']] ) #Bayview Ave & Eglinton Ave E\n",
    "\n",
    "len(dfrisky)"
   ]
  },
  {
   "cell_type": "code",
   "execution_count": 5,
   "metadata": {
    "scrolled": false
   },
   "outputs": [],
   "source": [
    "df3=pd.read_csv('roadimpediments.csv')\n",
    "lst=['dpz83d2','dpz8252','dpz95be','dpz81py','dpz866m','dpz837p','dpz2xkv','dpz89tr']\n",
    "dfim=pd.DataFrame()\n",
    "\n",
    "    \n",
    "  #find impediments in risky areas\n"
   ]
  },
  {
   "cell_type": "code",
   "execution_count": 4,
   "metadata": {},
   "outputs": [],
   "source": [
    "for char in lst:\n",
    "    dfim=dfim.append([df3.loc[df3['Geohash']==char]])\n",
    "    \n",
    "#dfim.groupby('Geohash').size().sort_values(ascending=False) #impediments quantities at risky areas"
   ]
  },
  {
   "cell_type": "code",
   "execution_count": 2,
   "metadata": {},
   "outputs": [],
   "source": [
    "dfim\n",
    "sorted(dfim.groupby('Geohash'),  key=lambda x: len(x[1]), reverse=True)"
   ]
  },
  {
   "cell_type": "code",
   "execution_count": 9,
   "metadata": {},
   "outputs": [],
   "source": [
    "# # #dfn=df3.groupby('Geohash').size().sort_values(ascending=False)\n",
    "# # #dfn\n",
    "len(df3.loc[df3['Geohash'] == 'dpz95be'] )"
   ]
  },
  {
   "cell_type": "code",
   "execution_count": null,
   "metadata": {},
   "outputs": [],
   "source": []
  }
 ],
 "metadata": {
  "kernelspec": {
   "display_name": "Python 3",
   "language": "python",
   "name": "python3"
  },
  "language_info": {
   "codemirror_mode": {
    "name": "ipython",
    "version": 3
   },
   "file_extension": ".py",
   "mimetype": "text/x-python",
   "name": "python",
   "nbconvert_exporter": "python",
   "pygments_lexer": "ipython3",
   "version": "3.7.5"
  }
 },
 "nbformat": 4,
 "nbformat_minor": 2
}
